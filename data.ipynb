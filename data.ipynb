{
 "cells": [
  {
   "cell_type": "markdown",
   "metadata": {},
   "source": [
    "## Transcript structure"
   ]
  },
  {
   "cell_type": "code",
   "execution_count": null,
   "metadata": {},
   "outputs": [],
   "source": [
    "input_file = \"./data/StimDetails_predsent.txt\"\n",
    "output_file = \"./data/transcripts_var.txt\"\n",
    "\n",
    "with open(input_file, \"r\") as f_in, open(output_file, \"a\") as f_out:\n",
    "    for line in f_in:\n",
    "        # Remove extra spaces and split the line by tabs\n",
    "        parts = line.strip().split(\"\\t\")\n",
    "        parts = parts[0:3]\n",
    "        \n",
    "        # Join the parts using a pipe symbol\n",
    "        new_line = \"|\".join(parts)\n",
    "        print(new_line)\n",
    "        \n",
    "        # Write the modified line to the output file\n",
    "        f_out.write(new_line + \"\\n\")"
   ]
  },
  {
   "cell_type": "markdown",
   "metadata": {},
   "source": [
    "## Transcript out of csv file"
   ]
  },
  {
   "cell_type": "code",
   "execution_count": 2,
   "metadata": {},
   "outputs": [],
   "source": [
    "import pandas as pd\n",
    "input_file = \"./cgn_cd_vlnl.csv\"\n",
    "output_file = \"./data/transcripts_cgn.txt\"\n",
    "\n",
    "df = pd.read_csv(input_file)\n",
    "df = df[['wav_filename', 'transcript']]"
   ]
  },
  {
   "cell_type": "code",
   "execution_count": 3,
   "metadata": {},
   "outputs": [
    {
     "data": {
      "text/html": [
       "<div>\n",
       "<style scoped>\n",
       "    .dataframe tbody tr th:only-of-type {\n",
       "        vertical-align: middle;\n",
       "    }\n",
       "\n",
       "    .dataframe tbody tr th {\n",
       "        vertical-align: top;\n",
       "    }\n",
       "\n",
       "    .dataframe thead th {\n",
       "        text-align: right;\n",
       "    }\n",
       "</style>\n",
       "<table border=\"1\" class=\"dataframe\">\n",
       "  <thead>\n",
       "    <tr style=\"text-align: right;\">\n",
       "      <th></th>\n",
       "      <th>wav_filename</th>\n",
       "      <th>transcript</th>\n",
       "    </tr>\n",
       "  </thead>\n",
       "  <tbody>\n",
       "    <tr>\n",
       "      <th>0</th>\n",
       "      <td>S:\\Downloads\\20151207_CGN_2_0_3\\CGN_2.0.3\\data...</td>\n",
       "      <td>ongelofelijk op grond van de keren dat ze in h...</td>\n",
       "    </tr>\n",
       "    <tr>\n",
       "      <th>1</th>\n",
       "      <td>S:\\Downloads\\20151207_CGN_2_0_3\\CGN_2.0.3\\data...</td>\n",
       "      <td>ja maar ik heb explorer ja ik heb dat toch al ...</td>\n",
       "    </tr>\n",
       "    <tr>\n",
       "      <th>2</th>\n",
       "      <td>S:\\Downloads\\20151207_CGN_2_0_3\\CGN_2.0.3\\data...</td>\n",
       "      <td>zo met haar hoofd in ha in haar in haar uhm uh...</td>\n",
       "    </tr>\n",
       "    <tr>\n",
       "      <th>3</th>\n",
       "      <td>S:\\Downloads\\20151207_CGN_2_0_3\\CGN_2.0.3\\data...</td>\n",
       "      <td>en dan uh ergens midden in de nacht hier komen ok</td>\n",
       "    </tr>\n",
       "    <tr>\n",
       "      <th>4</th>\n",
       "      <td>S:\\Downloads\\20151207_CGN_2_0_3\\CGN_2.0.3\\data...</td>\n",
       "      <td>daar waren wij nog wel benieuwd g naar hoe dat...</td>\n",
       "    </tr>\n",
       "  </tbody>\n",
       "</table>\n",
       "</div>"
      ],
      "text/plain": [
       "                                        wav_filename  \\\n",
       "0  S:\\Downloads\\20151207_CGN_2_0_3\\CGN_2.0.3\\data...   \n",
       "1  S:\\Downloads\\20151207_CGN_2_0_3\\CGN_2.0.3\\data...   \n",
       "2  S:\\Downloads\\20151207_CGN_2_0_3\\CGN_2.0.3\\data...   \n",
       "3  S:\\Downloads\\20151207_CGN_2_0_3\\CGN_2.0.3\\data...   \n",
       "4  S:\\Downloads\\20151207_CGN_2_0_3\\CGN_2.0.3\\data...   \n",
       "\n",
       "                                          transcript  \n",
       "0  ongelofelijk op grond van de keren dat ze in h...  \n",
       "1  ja maar ik heb explorer ja ik heb dat toch al ...  \n",
       "2  zo met haar hoofd in ha in haar in haar uhm uh...  \n",
       "3  en dan uh ergens midden in de nacht hier komen ok  \n",
       "4  daar waren wij nog wel benieuwd g naar hoe dat...  "
      ]
     },
     "execution_count": 3,
     "metadata": {},
     "output_type": "execute_result"
    }
   ],
   "source": [
    "df.head()"
   ]
  },
  {
   "cell_type": "code",
   "execution_count": 16,
   "metadata": {},
   "outputs": [],
   "source": [
    "# Assuming df contains your data\n",
    "for index, row in df.iterrows():\n",
    "    # Split the line by '\\' to get the filename\n",
    "    filename = row['wav_filename'].split('\\\\')[-1]\n",
    "    # Print the filename along with the transcript\n",
    "    new_line = f\"{filename}|{row['transcript']}\"\n",
    "    with open(output_file, 'a') as of:\n",
    "        # Write the modified line to the output file\n",
    "        of.write(new_line + \"\\n\")"
   ]
  },
  {
   "cell_type": "code",
   "execution_count": 1,
   "metadata": {},
   "outputs": [],
   "source": [
    "import pandas as pd\n",
    "input_file = \"./cgn_a_vl.csv\"\n",
    "output_file = \"./data/transcripts_cgn_a.txt\"\n",
    "\n",
    "df = pd.read_csv(input_file)\n",
    "df = df[['wav_filename', 'transcript']]"
   ]
  },
  {
   "cell_type": "code",
   "execution_count": 2,
   "metadata": {},
   "outputs": [
    {
     "data": {
      "text/html": [
       "<div>\n",
       "<style scoped>\n",
       "    .dataframe tbody tr th:only-of-type {\n",
       "        vertical-align: middle;\n",
       "    }\n",
       "\n",
       "    .dataframe tbody tr th {\n",
       "        vertical-align: top;\n",
       "    }\n",
       "\n",
       "    .dataframe thead th {\n",
       "        text-align: right;\n",
       "    }\n",
       "</style>\n",
       "<table border=\"1\" class=\"dataframe\">\n",
       "  <thead>\n",
       "    <tr style=\"text-align: right;\">\n",
       "      <th></th>\n",
       "      <th>wav_filename</th>\n",
       "      <th>transcript</th>\n",
       "    </tr>\n",
       "  </thead>\n",
       "  <tbody>\n",
       "    <tr>\n",
       "      <th>0</th>\n",
       "      <td>S:\\Downloads\\20151207_CGN_2_0_3\\CGN_2.0.3\\data...</td>\n",
       "      <td>en uh voor het overige ja uh pff hebben we dan...</td>\n",
       "    </tr>\n",
       "    <tr>\n",
       "      <th>1</th>\n",
       "      <td>S:\\Downloads\\20151207_CGN_2_0_3\\CGN_2.0.3\\data...</td>\n",
       "      <td>en dat was dus echt ja gemiddeld uhm n dag tus...</td>\n",
       "    </tr>\n",
       "    <tr>\n",
       "      <th>2</th>\n",
       "      <td>S:\\Downloads\\20151207_CGN_2_0_3\\CGN_2.0.3\\data...</td>\n",
       "      <td>ah ja uhm</td>\n",
       "    </tr>\n",
       "    <tr>\n",
       "      <th>3</th>\n",
       "      <td>S:\\Downloads\\20151207_CGN_2_0_3\\CGN_2.0.3\\data...</td>\n",
       "      <td>ja maar als als je als je daar nu op op terugk...</td>\n",
       "    </tr>\n",
       "    <tr>\n",
       "      <th>4</th>\n",
       "      <td>S:\\Downloads\\20151207_CGN_2_0_3\\CGN_2.0.3\\data...</td>\n",
       "      <td>maar ja maarten schrijft soms papers van veert...</td>\n",
       "    </tr>\n",
       "  </tbody>\n",
       "</table>\n",
       "</div>"
      ],
      "text/plain": [
       "                                        wav_filename  \\\n",
       "0  S:\\Downloads\\20151207_CGN_2_0_3\\CGN_2.0.3\\data...   \n",
       "1  S:\\Downloads\\20151207_CGN_2_0_3\\CGN_2.0.3\\data...   \n",
       "2  S:\\Downloads\\20151207_CGN_2_0_3\\CGN_2.0.3\\data...   \n",
       "3  S:\\Downloads\\20151207_CGN_2_0_3\\CGN_2.0.3\\data...   \n",
       "4  S:\\Downloads\\20151207_CGN_2_0_3\\CGN_2.0.3\\data...   \n",
       "\n",
       "                                          transcript  \n",
       "0  en uh voor het overige ja uh pff hebben we dan...  \n",
       "1  en dat was dus echt ja gemiddeld uhm n dag tus...  \n",
       "2                                          ah ja uhm  \n",
       "3  ja maar als als je als je daar nu op op terugk...  \n",
       "4  maar ja maarten schrijft soms papers van veert...  "
      ]
     },
     "execution_count": 2,
     "metadata": {},
     "output_type": "execute_result"
    }
   ],
   "source": [
    "df.head()"
   ]
  },
  {
   "cell_type": "code",
   "execution_count": 3,
   "metadata": {},
   "outputs": [],
   "source": [
    "# Assuming df contains your data\n",
    "for index, row in df.iterrows():\n",
    "    # Split the line by '\\' to get the filename\n",
    "    filename = row['wav_filename'].split('\\\\')[-1]\n",
    "    # Print the filename along with the transcript\n",
    "    new_line = f\"{filename}|{row['transcript']}\"\n",
    "    with open(output_file, 'a') as of:\n",
    "        # Write the modified line to the output file\n",
    "        of.write(new_line + \"\\n\")"
   ]
  },
  {
   "cell_type": "markdown",
   "metadata": {},
   "source": [
    "## Not transcribed new datalist"
   ]
  },
  {
   "cell_type": "code",
   "execution_count": null,
   "metadata": {},
   "outputs": [],
   "source": [
    "import pandas as pd\n",
    "import os\n",
    "\n",
    "# Function to extract the filename from the path\n",
    "def extract_filename(path):\n",
    "    return os.path.splitext(os.path.basename(path))[0]  # Extract filename without extension\n",
    "\n",
    "# Read the list of filenames from the text file\n",
    "with open('./not_in_trans.txt', 'r') as file:\n",
    "    not_transcribed_files = {line.strip() for line in file}\n",
    "\n",
    "# Assuming df is your DataFrame containing a column 'wav_filename'\n",
    "# Extract filenames from 'wav_filename' column\n",
    "df_filenames = df['wav_filename'].apply(extract_filename)\n",
    "\n",
    "# Find filenames that are in df_filenames but not in not_transcribed_files\n",
    "missing_files = df[df_filenames.isin(not_transcribed_files)]\n",
    "\n",
    "# Create a DataFrame with missing filenames and file paths\n",
    "missing_files_df = missing_files[['wav_filename']].copy()\n",
    "missing_files_df.rename(columns={'wav_filename': 'filepath'}, inplace=True)\n",
    "\n",
    "# Write the DataFrame to a CSV file\n",
    "missing_files_df.to_csv('missing_transcriptions.csv', index=False)\n"
   ]
  }
 ],
 "metadata": {
  "kernelspec": {
   "display_name": "Python 3",
   "language": "python",
   "name": "python3"
  },
  "language_info": {
   "codemirror_mode": {
    "name": "ipython",
    "version": 3
   },
   "file_extension": ".py",
   "mimetype": "text/x-python",
   "name": "python",
   "nbconvert_exporter": "python",
   "pygments_lexer": "ipython3",
   "version": "3.10.5"
  }
 },
 "nbformat": 4,
 "nbformat_minor": 2
}
